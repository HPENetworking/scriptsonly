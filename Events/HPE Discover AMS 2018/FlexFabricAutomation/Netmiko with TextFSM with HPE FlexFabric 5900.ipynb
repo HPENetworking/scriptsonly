{
 "cells": [
  {
   "cell_type": "markdown",
   "metadata": {},
   "source": [
    "# Parsing Text with TextFSM\n",
    "\n",
    "In this short tutorial, we're going to first use the Netmiko library to gather some command output from a HPE FlexFabric 5900 switch and then use the TextFSM library to convert that into a python friendly data structure. "
   ]
  },
  {
   "cell_type": "code",
   "execution_count": 1,
   "metadata": {},
   "outputs": [],
   "source": [
    "import textfsm as textfsm\n",
    "from netmiko import ConnectHandler\n",
    "\n"
   ]
  },
  {
   "cell_type": "code",
   "execution_count": 2,
   "metadata": {},
   "outputs": [],
   "source": [
    "FF5900 = { 'device_type' : 'hp_comware', 'ip': '10.20.10.10', 'username' : 'admin', 'password': 'password'}"
   ]
  },
  {
   "cell_type": "code",
   "execution_count": 3,
   "metadata": {},
   "outputs": [],
   "source": [
    "net_connect = ConnectHandler(**FF5900)\n",
    "output = net_connect.send_command(\"display arp\")"
   ]
  },
  {
   "cell_type": "code",
   "execution_count": 4,
   "metadata": {},
   "outputs": [
    {
     "name": "stdout",
     "output_type": "stream",
     "text": [
      "  Type: S-Static   D-Dynamic   O-Openflow   R-Rule   M-Multiport  I-Invalid\n",
      "IP address      MAC address    VLAN     Interface                Aging Type \n",
      "10.20.10.1      001e-c1dc-fc01 N/A      M-GE0/0/0                12    D    \n",
      "10.20.1.254     001e-c1dc-fc01 1        XGE1/0/48                20    D    \n"
     ]
    }
   ],
   "source": [
    "print(output)"
   ]
  },
  {
   "cell_type": "code",
   "execution_count": 5,
   "metadata": {},
   "outputs": [],
   "source": [
    "with open('./dis_arp.template', 'r') as file:\n",
    "    template = textfsm.TextFSM(file)"
   ]
  },
  {
   "cell_type": "code",
   "execution_count": 6,
   "metadata": {},
   "outputs": [
    {
     "name": "stdout",
     "output_type": "stream",
     "text": [
      "Value IPADDRESS (\\d+.\\d+.\\d+.\\d+)\n",
      "Value MACADDRESS (\\w+-\\w+-\\w+)\n",
      "Value VLAN (\\S+|\\d+)\n",
      "Value INTERFACE (\\S+)\n",
      "Value AGING (\\d+)\n",
      "Value TYPE (\\S+)\n",
      "\n",
      "Start\n",
      "  ^${IPADDRESS}\\s+${MACADDRESS}\\s+${VLAN}\\s+${INTERFACE}\\s+${AGING}\\s+${TYPE} -> Record\n",
      "\n"
     ]
    }
   ],
   "source": [
    "print(template)"
   ]
  },
  {
   "cell_type": "code",
   "execution_count": 8,
   "metadata": {},
   "outputs": [],
   "source": [
    "my_arps = template.ParseText(output)"
   ]
  },
  {
   "cell_type": "code",
   "execution_count": 9,
   "metadata": {},
   "outputs": [
    {
     "data": {
      "text/plain": [
       "[[u'10.20.10.1', u'001e-c1dc-fc01', u'N/A', u'M-GE0/0/0', u'12', u'D'],\n",
       " [u'10.20.1.254', u'001e-c1dc-fc01', u'1', u'XGE1/0/48', u'20', u'D'],\n",
       " [u'10.20.10.1', u'001e-c1dc-fc01', u'N/A', u'M-GE0/0/0', u'12', u'D'],\n",
       " [u'10.20.1.254', u'001e-c1dc-fc01', u'1', u'XGE1/0/48', u'20', u'D']]"
      ]
     },
     "execution_count": 9,
     "metadata": {},
     "output_type": "execute_result"
    }
   ],
   "source": [
    "my_arps"
   ]
  },
  {
   "cell_type": "code",
   "execution_count": 13,
   "metadata": {},
   "outputs": [
    {
     "name": "stdout",
     "output_type": "stream",
     "text": [
      "Mac address 001e-c1dc-fc01 has currently been assigned IP address 10.20.10.1 and can be found on interface M-GE0/0/0\n",
      "Mac address 001e-c1dc-fc01 has currently been assigned IP address 10.20.1.254 and can be found on interface XGE1/0/48\n",
      "Mac address 001e-c1dc-fc01 has currently been assigned IP address 10.20.10.1 and can be found on interface M-GE0/0/0\n",
      "Mac address 001e-c1dc-fc01 has currently been assigned IP address 10.20.1.254 and can be found on interface XGE1/0/48\n"
     ]
    }
   ],
   "source": [
    "for i in my_arps:\n",
    "    print (\"Mac address \" + i[1] + ' has currently been assigned IP address ' + i[0] + ' and can be found on interface ' + i[3])"
   ]
  },
  {
   "cell_type": "code",
   "execution_count": null,
   "metadata": {},
   "outputs": [],
   "source": []
  }
 ],
 "metadata": {
  "kernelspec": {
   "display_name": "Python 2",
   "language": "python",
   "name": "python2"
  },
  "language_info": {
   "codemirror_mode": {
    "name": "ipython",
    "version": 2
   },
   "file_extension": ".py",
   "mimetype": "text/x-python",
   "name": "python",
   "nbconvert_exporter": "python",
   "pygments_lexer": "ipython2",
   "version": "2.7.13"
  }
 },
 "nbformat": 4,
 "nbformat_minor": 2
}
