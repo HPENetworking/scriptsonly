{
 "cells": [
  {
   "cell_type": "markdown",
   "metadata": {},
   "source": [
    "# Intro to working with FlexFabric Netconf API\n",
    "\n",
    "In this article, we'll look at using the pyhpecw7 library to connect via Netconf to a HPE FlexFabric 5900 switch.\n",
    "\n",
    "Although the HPE FlexFabric Data Center switching portfolio supports multiple ways to interact with it, including CLI, SNMP, TCL & Python shells, as well as a REST API, the Netconf API does give us certain advantages including the ability to stage a configuration before we commit it to the running state of the device. \n",
    "\n",
    "Although we could look at using the python [**NCCLIENT**](http://ncclient.readthedocs.io/en/latest/) library and interact with the library using the XSD definitions included when you download the software for the device, HPE has also kindly provided a pythonic wrapper specific to the FlexFabric Netconf interface which you can install directly using the standard python PIP process. \n",
    "\n",
    "\n",
    "First we'll need to make sure we import the library, if you don't have that yet, remember it's just *pip install pyhpecw7*\n",
    "\n",
    "*Note: As opposed to what it looks like on the Github repo. I did not write this library. It was commisioned to be written by a 3rd party consultant who did a great job and who now bears no responsibility for the library anymore. You know who you are.*"
   ]
  },
  {
   "cell_type": "code",
   "execution_count": 2,
   "metadata": {},
   "outputs": [],
   "source": [
    "from pyhpecw7.comware import HPCOM7"
   ]
  },
  {
   "cell_type": "markdown",
   "metadata": {},
   "source": [
    "Now we will create our first HPCOM7 object which will represent a single switch"
   ]
  },
  {
   "cell_type": "code",
   "execution_count": 3,
   "metadata": {},
   "outputs": [],
   "source": [
    "args = dict(host='10.20.10.10', username = 'admin', password='password')\n",
    "device= HPCOM7(**args)"
   ]
  },
  {
   "cell_type": "markdown",
   "metadata": {},
   "source": [
    "Now that we've successfully create the HPCOM7 object called device. We'll use the *open* method to connect to the switch.\n",
    "\n",
    "Note: You must have IP connectivity to the switch you're trying to manage. If this command fails, you might attempt to PING the device in question to see if you've got connectivity.\n"
   ]
  },
  {
   "cell_type": "code",
   "execution_count": 4,
   "metadata": {},
   "outputs": [
    {
     "data": {
      "text/plain": [
       "<ncclient.manager.Manager at 0x6b34790>"
      ]
     },
     "execution_count": 4,
     "metadata": {},
     "output_type": "execute_result"
    }
   ],
   "source": [
    "device.open()"
   ]
  },
  {
   "cell_type": "markdown",
   "metadata": {},
   "source": [
    "Now that we've successfully created our first device, let's take a look at some of the information that comes out of the box. The most important being the *facts* which gives us an idea of what we're working with."
   ]
  },
  {
   "cell_type": "code",
   "execution_count": 5,
   "metadata": {},
   "outputs": [
    {
     "data": {
      "text/plain": [
       "'5900'"
      ]
     },
     "execution_count": 5,
     "metadata": {},
     "output_type": "execute_result"
    }
   ],
   "source": [
    "device.facts['hostname']"
   ]
  },
  {
   "cell_type": "code",
   "execution_count": 6,
   "metadata": {},
   "outputs": [
    {
     "data": {
      "text/plain": [
       "'HPE 5900AF-48XGT-4QSFP+ Switch'"
      ]
     },
     "execution_count": 6,
     "metadata": {},
     "output_type": "execute_result"
    }
   ],
   "source": [
    "device.facts['model']"
   ]
  },
  {
   "cell_type": "code",
   "execution_count": 7,
   "metadata": {},
   "outputs": [
    {
     "data": {
      "text/plain": [
       "'hp'"
      ]
     },
     "execution_count": 7,
     "metadata": {},
     "output_type": "execute_result"
    }
   ],
   "source": [
    "device.facts['vendor']"
   ]
  },
  {
   "cell_type": "code",
   "execution_count": 8,
   "metadata": {},
   "outputs": [
    {
     "data": {
      "text/plain": [
       "'7.1.045 Release 2432P02'"
      ]
     },
     "execution_count": 8,
     "metadata": {},
     "output_type": "execute_result"
    }
   ],
   "source": [
    "device.facts['os']"
   ]
  },
  {
   "cell_type": "code",
   "execution_count": 8,
   "metadata": {},
   "outputs": [
    {
     "data": {
      "text/plain": [
       "'CN34FR401V'"
      ]
     },
     "execution_count": 8,
     "metadata": {},
     "output_type": "execute_result"
    }
   ],
   "source": [
    "device.facts['serial_number']"
   ]
  },
  {
   "cell_type": "code",
   "execution_count": 9,
   "metadata": {},
   "outputs": [
    {
     "data": {
      "text/plain": [
       "'26d 11hr 3min 42sec'"
      ]
     },
     "execution_count": 9,
     "metadata": {},
     "output_type": "execute_result"
    }
   ],
   "source": [
    "device.facts['uptime']"
   ]
  },
  {
   "cell_type": "code",
   "execution_count": 10,
   "metadata": {},
   "outputs": [
    {
     "data": {
      "text/plain": [
       "58"
      ]
     },
     "execution_count": 10,
     "metadata": {},
     "output_type": "execute_result"
    }
   ],
   "source": [
    "len(device.facts['interface_list'])"
   ]
  },
  {
   "cell_type": "markdown",
   "metadata": {},
   "source": [
    "Of course we can also easily print the first few interfaces in the list"
   ]
  },
  {
   "cell_type": "code",
   "execution_count": 11,
   "metadata": {},
   "outputs": [
    {
     "name": "stdout",
     "output_type": "stream",
     "text": [
      "The interface name is Ten-GigabitEthernet1/0/1\n",
      "The interface name is Ten-GigabitEthernet1/0/2\n",
      "The interface name is Ten-GigabitEthernet1/0/3\n"
     ]
    }
   ],
   "source": [
    "for interface in (device.facts['interface_list'][0:3]):\n",
    "    print \"The interface name is \" + interface"
   ]
  },
  {
   "cell_type": "markdown",
   "metadata": {},
   "source": [
    "As well as getting the basic facts about the device, we can also import additional features, such as the Neighbors function, which allows us to gather the LLDP neighbor stats from the device which could then be used to auto-generate a dot file for creating network documentation using [GraphViz](https://kontrolissues.net/2017/02/05/auto-network-diagram-with-graphviz/). "
   ]
  },
  {
   "cell_type": "code",
   "execution_count": 12,
   "metadata": {},
   "outputs": [],
   "source": [
    "from pyhpecw7.features.neighbor import Neighbors"
   ]
  },
  {
   "cell_type": "code",
   "execution_count": 13,
   "metadata": {},
   "outputs": [],
   "source": [
    "neighbor1 = Neighbors(device)"
   ]
  },
  {
   "cell_type": "code",
   "execution_count": 14,
   "metadata": {},
   "outputs": [
    {
     "data": {
      "text/plain": [
       "[{'local_intf': 'Ten-GigabitEthernet1/0/48',\n",
       "  'neighbor': 'HP_5500EI',\n",
       "  'neighbor_intf': 'GigabitEthernet2/0/23'},\n",
       " {'local_intf': 'M-GigabitEthernet0/0/0',\n",
       "  'neighbor': 'HP_5500EI',\n",
       "  'neighbor_intf': 'GigabitEthernet1/0/22'}]"
      ]
     },
     "execution_count": 14,
     "metadata": {},
     "output_type": "execute_result"
    }
   ],
   "source": [
    "neighbor1.lldp"
   ]
  },
  {
   "cell_type": "markdown",
   "metadata": {},
   "source": [
    "The [*pyhpecw7*](http://www.github.com/hpenetworking/pyhpecw7) is a great way to get started playing with the HPE FlexFabric data center switches without having to learn a lot about the internal intricasies of the netconf protocol. \n",
    "\n",
    "Will this library do everything you need it to do? No, probably not. But it's a great start and they do take requests to extend the functionality at the libraries [github issues](https://github.com/hpenetworking/pyhpecw7/issues)"
   ]
  },
  {
   "cell_type": "code",
   "execution_count": null,
   "metadata": {},
   "outputs": [],
   "source": []
  }
 ],
 "metadata": {
  "kernelspec": {
   "display_name": "Python 2",
   "language": "python",
   "name": "python2"
  },
  "language_info": {
   "codemirror_mode": {
    "name": "ipython",
    "version": 2
   },
   "file_extension": ".py",
   "mimetype": "text/x-python",
   "name": "python",
   "nbconvert_exporter": "python",
   "pygments_lexer": "ipython2",
   "version": "2.7.13"
  }
 },
 "nbformat": 4,
 "nbformat_minor": 2
}
