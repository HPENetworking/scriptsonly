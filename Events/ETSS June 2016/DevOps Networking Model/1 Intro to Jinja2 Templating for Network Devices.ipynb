{
 "cells": [
  {
   "cell_type": "code",
   "execution_count": 1,
   "metadata": {},
   "outputs": [
    {
     "data": {
      "text/html": [
       "<style>\n",
       "table {float:left}\n",
       "</style>"
      ]
     },
     "output_type": "execute_result",
     "metadata": {}
    }
   ],
   "source": [
    "%%html\n",
    "<style>\n",
    "table {float:left}\n",
    "</style>"
   ]
  },
  {
   "cell_type": "markdown",
   "metadata": {},
   "source": [
    "# What is Jinja2    ![jinja icon](http://jinja.pocoo.org/docs/dev/_static/jinja-small.png)\n",
    "\n",
    "<a href=\"http://jinja.pocoo.org/\">Jinja2 </a> is a templating language that was originally used as part of the <a href=\"http://flask.pocoo.org/\">Flask</a> python web framework. From the Jinja2 website \n",
    "\n",
    "> Jinja2 is a full featured template engine for Python. It has full unicode support, an optional integrated sandboxed execution environment, widely used and BSD licensed\n",
    "\n",
    "It was originally developed to help automatically generate HTML dynamically as part of the flask framework, more on that in another post, but it can also easily be used to help us generate our configuration files for our infrastructure devices. \n",
    "\n",
    "This is going to be a very simple introduction to a few of the basic concepts of that jinja uses which, hopefully, will help to understand how Jinja can be used as a first step down the road of gaining automation skills. \n",
    "\n",
    "We'll take a look at a developing some intuition on how Jinja2 can be used to create basic network infrastructure device configurations. This is definitly not the modern method of interfacing directly into the control/data/management plane of devices using APIs, but it's definitely a step in the right direction on understanding how a bit of code can help make your life better. \n",
    "\n",
    "## Prereqs\n",
    "\n",
    "I'm assuming you've already got [python](http://www.python.org) installed on your system. You're also going to need to run the ** *pip install jinja2* ** command from a terminal window to get the latest version of jinja2 which should work just fine here. "
   ]
  },
  {
   "cell_type": "markdown",
   "metadata": {},
   "source": [
    "# Learning by Example\n",
    "\n",
    "In this section we'll start with a small example on how to create a few VLANs using the typical syntax from a modern networking OS. In this case, I used the HPE Comware syntax, but it would be easy enough to create this using a Cisco or Juniper configuration and you're encouraged to try to get this working with your own network vendor. "
   ]
  },
  {
   "cell_type": "markdown",
   "metadata": {},
   "source": [
    "## Import required libraries\n",
    "\n",
    "First We'll import the required modules from the Jinja2 library. This is pretty much stolen directly from the jinja2 docs. "
   ]
  },
  {
   "cell_type": "code",
   "execution_count": 13,
   "metadata": {},
   "outputs": [],
   "source": [
    "from jinja2 import Environment, FileSystemLoader, Template"
   ]
  },
  {
   "cell_type": "markdown",
   "metadata": {},
   "source": [
    "## Creating the VLANS\n",
    "\n",
    "For this example, we're going to create a python list of dicts which contains six different VLANS as listed in the tabel below.\n",
    "\n",
    "A python dictionary is just a key-value pair, where the value for a specific key in the dictionary can be accessed using the key name. \n",
    "\n",
    "\n",
    "- Name: Name of the VLAN\n",
    "- Description: Descrition of the VLAN\n",
    "- VLAN ID: Dot1q VLAN ID.\n",
    "\n",
    "\n",
    "\n",
    "|Name| Description | VLAN ID|\n",
    "|-----|-----|-----|\n",
    "|Management|Management VLAN| 10|\n",
    "|Users|Users VLAN|15|\n",
    "|Phones|Phones VLAN|16|\n",
    "|Servers|Servers VLAN|20|\n",
    "|Mobility|Mobility VLAN|30|\n",
    "|Guest|Guest VLAN|40|"
   ]
  },
  {
   "cell_type": "code",
   "execution_count": 14,
   "metadata": {},
   "outputs": [],
   "source": [
    "vlans_list = [{'name': 'management', 'description': 'management vlan', 'id': '10'},\n",
    "         {'name': 'users', 'description': 'users vlan', 'id': '15'},\n",
    "         {'name': 'phones', 'description': 'phones vlan', 'id': '16'},\n",
    "         {'name': 'servers', 'description': 'servers vlan', 'id': '20'},\n",
    "         {'name': 'mobility', 'description': 'mobility vlan', 'id': '30'},\n",
    "         {'name': 'guest', 'description': 'guest vlan', 'id': '40'},\n",
    "         {'name': 'rob', 'description': 'guest vlan', 'id': '45'}\n",
    "         ]"
   ]
  },
  {
   "cell_type": "markdown",
   "metadata": {},
   "source": [
    "## VLAN Jinja2 Template\n",
    "\n",
    "In this step, we're going to create a variable called **text_file** which will contain the content of a jinja2 template. This is a basic python string object which means, at this point, it's just a bunch of text.\n",
    "\n",
    "In *normal* circunstances, we would actually be reading this template from a file located on the hard drive, but for our purposes today, we'll just put the [template](http://jinja.pocoo.org/docs/dev/templates/) in by hand.\n",
    "\n",
    "What makes Jinja2 powerful is the control structures that allow it to perform programatic operations. In this example, we're creating a **For** loop.\n",
    "\n",
    "Following the code we will each *vlan* in the *vlans* object we created above and then render the template using the *'id'* key for the first variable, the *'name'* key for the second variable, and the *'description'* key for the last variable.  \n",
    "\n",
    "Hopfully, this makes sense, but if not, just hold on and it should become clear before the end.\n"
   ]
  },
  {
   "cell_type": "code",
   "execution_count": 4,
   "metadata": {},
   "outputs": [],
   "source": [
    "text_file = ('''\n",
    "#vlan config\n",
    "{% for vlan in vlans -%}\n",
    "vlan {{ vlan['id'] }}\n",
    "    name {{ vlan['name'] }}\n",
    "    description {{ vlan['description'] }}\n",
    "{% endfor %}''')"
   ]
  },
  {
   "cell_type": "markdown",
   "metadata": {},
   "source": [
    "If I was to write the same as a traditional python iterator it would look something like this. You can see how they are related I hope?"
   ]
  },
  {
   "cell_type": "code",
   "execution_count": 15,
   "metadata": {},
   "outputs": [
    {
     "name": "stdout",
     "output_type": "stream",
     "text": [
      "vlan 10\n",
      "    name management\n",
      "    description management vlan\n",
      "vlan 15\n",
      "    name users\n",
      "    description users vlan\n",
      "vlan 16\n",
      "    name phones\n",
      "    description phones vlan\n",
      "vlan 20\n",
      "    name servers\n",
      "    description servers vlan\n",
      "vlan 30\n",
      "    name mobility\n",
      "    description mobility vlan\n",
      "vlan 40\n",
      "    name guest\n",
      "    description guest vlan\n",
      "vlan 45\n",
      "    name rob\n",
      "    description guest vlan\n"
     ]
    }
   ],
   "source": [
    "for vlan in vlans_list:\n",
    "    print ('''vlan ''' +vlan['id']+\n",
    "           '''\\n    name '''+vlan['name']+\n",
    "           '''\\n    description '''+vlan['description'])"
   ]
  },
  {
   "cell_type": "markdown",
   "metadata": {},
   "source": [
    "## That's a lot of work typing isn't it?\n",
    "\n",
    "You could ask\n",
    ">That's more typing than I would do by hand? Why would I use this?\n",
    "\n",
    "Great question. The point of automating anything is to cut down on the repetitive effort it takes to accomplish a given goal. In this case, we can simply count the number of key strokes it would take to create a single new VLAN on a switch. "
   ]
  },
  {
   "cell_type": "code",
   "execution_count": 16,
   "metadata": {},
   "outputs": [
    {
     "name": "stdout",
     "output_type": "stream",
     "text": [
      "27\n"
     ]
    }
   ],
   "source": [
    "count_chars = \"vlan', 'name', 'description\"\n",
    "keystrokes = len(count_chars)\n",
    "print (keystrokes)"
   ]
  },
  {
   "cell_type": "markdown",
   "metadata": {},
   "source": [
    "Now let's pretend we had to type that 10 times"
   ]
  },
  {
   "cell_type": "code",
   "execution_count": 17,
   "metadata": {},
   "outputs": [
    {
     "data": {
      "text/plain": [
       "270"
      ]
     },
     "execution_count": 17,
     "output_type": "execute_result",
     "metadata": {}
    }
   ],
   "source": [
    "keystrokes * 10"
   ]
  },
  {
   "cell_type": "markdown",
   "metadata": {},
   "source": [
    "Or maybe we had to create 100 VLANs."
   ]
  },
  {
   "cell_type": "code",
   "execution_count": 18,
   "metadata": {},
   "outputs": [
    {
     "data": {
      "text/plain": [
       "2700"
      ]
     },
     "execution_count": 18,
     "output_type": "execute_result",
     "metadata": {}
    }
   ],
   "source": [
    "keystrokes * 100"
   ]
  },
  {
   "cell_type": "raw",
   "metadata": {},
   "source": [
    "Ir maybe we had to create the full 4094 VLANs available"
   ]
  },
  {
   "cell_type": "code",
   "execution_count": 19,
   "metadata": {},
   "outputs": [
    {
     "data": {
      "text/plain": [
       "110538"
      ]
     },
     "execution_count": 19,
     "output_type": "execute_result",
     "metadata": {}
    }
   ],
   "source": [
    "keystrokes * 4094"
   ]
  },
  {
   "cell_type": "markdown",
   "metadata": {},
   "source": [
    "Not sure about you, but if I don't have to type 110,000 keystrokes, my fingers will love me at the end of the day. Not to mention the fact that it's also repeated perfectly every single time, not a single typo in there. "
   ]
  },
  {
   "cell_type": "markdown",
   "metadata": {},
   "source": [
    "## Create the Template Object\n",
    "\n",
    "Now that we've created the text_file string object, we need to transform it into a jinj2 template which will allow us to then render it. We will create a new object called vlan_template and assign an instance of the **Template** class using the **text_file** contents as the input. "
   ]
  },
  {
   "cell_type": "code",
   "execution_count": 20,
   "metadata": {},
   "outputs": [],
   "source": [
    "vlan_template = Template(text_file)"
   ]
  },
  {
   "cell_type": "markdown",
   "metadata": {},
   "source": [
    "## Make the Magic Happen\n",
    "\n",
    "We will now use the **render** method on the **vlan_template** that we created above. We have a single argument to pass into the function. In this case we are passing the **vlans_list** list of dictionaries we create above in to the function as the **vlans** variable. \n"
   ]
  },
  {
   "cell_type": "code",
   "execution_count": 21,
   "metadata": {},
   "outputs": [
    {
     "data": {
      "text/plain": [
       "'\\n#vlan config\\nvlan 10\\n    name management\\n    description management vlan\\nvlan 15\\n    name users\\n    description users vlan\\nvlan 16\\n    name phones\\n    description phones vlan\\nvlan 20\\n    name servers\\n    description servers vlan\\nvlan 30\\n    name mobility\\n    description mobility vlan\\nvlan 40\\n    name guest\\n    description guest vlan\\nvlan 45\\n    name rob\\n    description guest vlan\\n'"
      ]
     },
     "execution_count": 21,
     "output_type": "execute_result",
     "metadata": {}
    }
   ],
   "source": [
    "vlan_template.render(vlans=vlans_list)"
   ]
  },
  {
   "cell_type": "markdown",
   "metadata": {},
   "source": [
    "## Hmmm What happened there?\n",
    "\n",
    "That doesn't look like a configuration file does it? The output of this file is actually a python string object. In python, we need someway to represent a carriage return (enter-key) and the **\\n** just happens to have that honour. \n",
    "\n",
    "Instead of running the template rendering directly, we can instead capture the output into a string object which we will then pass to the print command. "
   ]
  },
  {
   "cell_type": "code",
   "execution_count": 22,
   "metadata": {},
   "outputs": [],
   "source": [
    "rendered_template = vlan_template.render(vlans=vlans_list)"
   ]
  },
  {
   "cell_type": "code",
   "execution_count": 13,
   "metadata": {},
   "outputs": [
    {
     "name": "stdout",
     "output_type": "stream",
     "text": [
      "\n",
      "#vlan config\n",
      "vlan 10\n",
      "    name management\n",
      "    description management vlan\n",
      "vlan 15\n",
      "    name users\n",
      "    description users vlan\n",
      "vlan 16\n",
      "    name phones\n",
      "    description phones vlan\n",
      "vlan 20\n",
      "    name servers\n",
      "    description servers vlan\n",
      "vlan 30\n",
      "    name mobility\n",
      "    description mobility vlan\n",
      "vlan 40\n",
      "    name guest\n",
      "    description guest vlan\n",
      "vlan 45\n",
      "    name rob\n",
      "    description guest vlan\n",
      "\n"
     ]
    }
   ],
   "source": [
    "print (rendered_template)"
   ]
  },
  {
   "cell_type": "markdown",
   "metadata": {},
   "source": [
    "# Clear?\n",
    "\n",
    "Hopefully, this has shown you a bit of how a basic jinja control structure, like a **For** loop, can be used to cut down on a lot of key strokes, increase the accuracy of the configurations and help to streamline the operations. \n",
    "\n",
    "In the next post, I'll look at loading YAML files directly into python and using their contents as input into some more advanced jinja2 templates."
   ]
  },
  {
   "cell_type": "code",
   "execution_count": null,
   "metadata": {},
   "outputs": [],
   "source": [
    ""
   ]
  }
 ],
 "metadata": {
  "celltoolbar": "Slideshow",
  "kernelspec": {
   "display_name": "Python 3",
   "language": "python",
   "name": "python3"
  },
  "language_info": {
   "codemirror_mode": {
    "name": "ipython",
    "version": 3.0
   },
   "file_extension": ".py",
   "mimetype": "text/x-python",
   "name": "python",
   "nbconvert_exporter": "python",
   "pygments_lexer": "ipython3",
   "version": "3.4.3"
  }
 },
 "nbformat": 4,
 "nbformat_minor": 0
}